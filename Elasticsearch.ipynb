{
 "cells": [
  {
   "cell_type": "code",
   "execution_count": 1,
   "metadata": {},
   "outputs": [],
   "source": [
    "import random\n",
    "from uuid import uuid4\n",
    "from pprint import pprint\n",
    "from elasticsearch import Elasticsearch\n",
    "import elasticsearch.helpers as helpers"
   ]
  },
  {
   "cell_type": "code",
   "execution_count": 2,
   "metadata": {},
   "outputs": [],
   "source": [
    "es = Elasticsearch(hosts=['http://localhost'], port='9200')"
   ]
  },
  {
   "cell_type": "code",
   "execution_count": 3,
   "metadata": {},
   "outputs": [],
   "source": [
    "index = 'features'"
   ]
  },
  {
   "cell_type": "code",
   "execution_count": 4,
   "metadata": {},
   "outputs": [
    {
     "data": {
      "text/plain": [
       "{'acknowledged': True}"
      ]
     },
     "execution_count": 4,
     "metadata": {},
     "output_type": "execute_result"
    }
   ],
   "source": [
    "es.indices.delete(index=index)"
   ]
  },
  {
   "cell_type": "code",
   "execution_count": 5,
   "metadata": {},
   "outputs": [
    {
     "data": {
      "text/plain": [
       "{'acknowledged': True, 'shards_acknowledged': True, 'index': 'features'}"
      ]
     },
     "execution_count": 5,
     "metadata": {},
     "output_type": "execute_result"
    }
   ],
   "source": [
    "es.indices.create(index=index, body={\n",
    "  \"mappings\": {\n",
    "    \"properties\": {\n",
    "      \"feature\": {\n",
    "        \"type\": \"dense_vector\",\n",
    "        \"dims\": 128,\n",
    "      },\n",
    "      \"image_id\": {\n",
    "        \"type\": \"text\"\n",
    "      }\n",
    "    }\n",
    "  }\n",
    "}, ignore=400)"
   ]
  },
  {
   "cell_type": "code",
   "execution_count": 6,
   "metadata": {},
   "outputs": [
    {
     "name": "stdout",
     "output_type": "stream",
     "text": [
      "{'features': {'aliases': {},\n",
      "              'mappings': {'properties': {'feature': {'dims': 128,\n",
      "                                                      'type': 'dense_vector'},\n",
      "                                          'image_id': {'type': 'text'}}},\n",
      "              'settings': {'index': {'creation_date': '1582962572995',\n",
      "                                     'number_of_replicas': '1',\n",
      "                                     'number_of_shards': '1',\n",
      "                                     'provided_name': 'features',\n",
      "                                     'uuid': 'bua0grtUQNalkQWScLNZMg',\n",
      "                                     'version': {'created': '7050199'}}}}}\n"
     ]
    }
   ],
   "source": [
    "pprint(es.indices.get(index=index))"
   ]
  },
  {
   "cell_type": "code",
   "execution_count": 8,
   "metadata": {},
   "outputs": [
    {
     "name": "stdout",
     "output_type": "stream",
     "text": [
      "[]\n"
     ]
    }
   ],
   "source": [
    "res = es.search(index=index, body={\n",
    "      'query': {\n",
    "        'script_score': {\n",
    "          'query': {\n",
    "            'match_all': {}\n",
    "          },\n",
    "          'script': {\n",
    "            'source': \"dotProduct(params.query_vector, doc['feature'])\",\n",
    "            'params': {\n",
    "              'query_vector': [0.1 for _ in range(128)],\n",
    "            }\n",
    "          }\n",
    "        }\n",
    "      }\n",
    "    })\n",
    "pprint(res['hits']['hits'])"
   ]
  },
  {
   "cell_type": "code",
   "execution_count": null,
   "metadata": {},
   "outputs": [],
   "source": []
  }
 ],
 "metadata": {
  "kernelspec": {
   "display_name": "Python 3",
   "language": "python",
   "name": "python3"
  },
  "language_info": {
   "codemirror_mode": {
    "name": "ipython",
    "version": 3
   },
   "file_extension": ".py",
   "mimetype": "text/x-python",
   "name": "python",
   "nbconvert_exporter": "python",
   "pygments_lexer": "ipython3",
   "version": "3.7.4"
  }
 },
 "nbformat": 4,
 "nbformat_minor": 2
}
